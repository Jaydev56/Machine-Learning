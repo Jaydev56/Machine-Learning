{
  "nbformat": 4,
  "nbformat_minor": 0,
  "metadata": {
    "colab": {
      "provenance": [],
      "authorship_tag": "ABX9TyMOdI8GD0oUJu5r7IjxZ+uE",
      "include_colab_link": true
    },
    "kernelspec": {
      "name": "python3",
      "display_name": "Python 3"
    },
    "language_info": {
      "name": "python"
    }
  },
  "cells": [
    {
      "cell_type": "markdown",
      "metadata": {
        "id": "view-in-github",
        "colab_type": "text"
      },
      "source": [
        "<a href=\"https://colab.research.google.com/github/Jaydev56/Machine-Learning/blob/main/HillValley.ipynb\" target=\"_parent\"><img src=\"https://colab.research.google.com/assets/colab-badge.svg\" alt=\"Open In Colab\"/></a>"
      ]
    },
    {
      "cell_type": "markdown",
      "source": [
        "\n",
        "#**Hill Valley Prediction with Logistic Regression**\n",
        "\n",
        "---\n",
        "\n"
      ],
      "metadata": {
        "id": "jBynCi80nRjS"
      }
    },
    {
      "cell_type": "markdown",
      "source": [
        "**Objective:**\n",
        "To predict whether a given terrain is to be classified as a hill or valley based on data from different samples using Logistic Regression."
      ],
      "metadata": {
        "id": "_XTlSEPWp8e4"
      }
    },
    {
      "cell_type": "markdown",
      "source": [
        "**Data Source:** YBI foundation GitHub Dataset 'Hill Valley Dataset.csv'\n",
        ">\n",
        "https://github.com/YBI-Foundation/Dataset/raw/main/Hill%20Valley%20Dataset.csv"
      ],
      "metadata": {
        "id": "4cz71iuYrGw3"
      }
    },
    {
      "cell_type": "markdown",
      "source": [
        "**Import Library**"
      ],
      "metadata": {
        "id": "EQpCaq95sN0R"
      }
    },
    {
      "cell_type": "code",
      "execution_count": 45,
      "metadata": {
        "id": "7UTL1NcohrBG"
      },
      "outputs": [],
      "source": [
        "import pandas as pd\n",
        "import matplotlib.pyplot as plt\n",
        "from sklearn.model_selection import train_test_split\n",
        "from sklearn.linear_model import LogisticRegression\n",
        "from sklearn.metrics import classification_report, confusion_matrix\n",
        "from sklearn.preprocessing import StandardScaler"
      ]
    },
    {
      "cell_type": "markdown",
      "source": [
        "**Import Data**"
      ],
      "metadata": {
        "id": "QDBGLx8ms27W"
      }
    },
    {
      "cell_type": "code",
      "source": [
        "data = pd.read_csv('https://github.com/YBI-Foundation/Dataset/raw/main/Hill%20Valley%20Dataset.csv')"
      ],
      "metadata": {
        "id": "sPFjh19Cizeb"
      },
      "execution_count": null,
      "outputs": []
    },
    {
      "cell_type": "markdown",
      "source": [
        "**Describe Data**"
      ],
      "metadata": {
        "id": "Io-Tj14NtBsO"
      }
    },
    {
      "cell_type": "code",
      "source": [
        "data.head()"
      ],
      "metadata": {
        "id": "TfDgM8QEjlkA"
      },
      "execution_count": null,
      "outputs": []
    },
    {
      "cell_type": "code",
      "source": [
        "data.info()"
      ],
      "metadata": {
        "id": "a2m67n_y4RZT"
      },
      "execution_count": null,
      "outputs": []
    },
    {
      "cell_type": "code",
      "source": [
        "data.describe()"
      ],
      "metadata": {
        "id": "YBRBH_fU4VIb"
      },
      "execution_count": null,
      "outputs": []
    },
    {
      "cell_type": "markdown",
      "source": [
        "**Define Target Variable(y) and Feature Variable(x)**"
      ],
      "metadata": {
        "id": "91x9VS_i4dsq"
      }
    },
    {
      "cell_type": "code",
      "source": [
        "x = data.drop(['Class'], axis=1)\n",
        "y = data['Class']"
      ],
      "metadata": {
        "id": "--o2ujBP5RuI"
      },
      "execution_count": null,
      "outputs": []
    },
    {
      "cell_type": "markdown",
      "source": [
        "**Data Visualization**"
      ],
      "metadata": {
        "id": "-Yn_2J5GtPQt"
      }
    },
    {
      "cell_type": "code",
      "source": [
        "plt.plot(x.iloc[0,:])\n",
        "plt.title('Valley')"
      ],
      "metadata": {
        "id": "YMx_KzlUkVfy"
      },
      "execution_count": null,
      "outputs": []
    },
    {
      "cell_type": "code",
      "source": [
        "plt.plot(x.iloc[1,:])\n",
        "plt.title('Hill')"
      ],
      "metadata": {
        "id": "mxXjcGa19DKM"
      },
      "execution_count": null,
      "outputs": []
    },
    {
      "cell_type": "markdown",
      "source": [
        "**Data PreProcessing**"
      ],
      "metadata": {
        "id": "YljtGBl29ZFR"
      }
    },
    {
      "cell_type": "code",
      "source": [
        "standard = StandardScaler()"
      ],
      "metadata": {
        "id": "0_4mnYpv-ICD"
      },
      "execution_count": 33,
      "outputs": []
    },
    {
      "cell_type": "code",
      "source": [
        "x = standard.fit_transform(x)"
      ],
      "metadata": {
        "id": "qy4vN09R9deQ"
      },
      "execution_count": 34,
      "outputs": []
    },
    {
      "cell_type": "code",
      "source": [
        "x.shape"
      ],
      "metadata": {
        "id": "NdO3oMyc-bpZ"
      },
      "execution_count": null,
      "outputs": []
    },
    {
      "cell_type": "code",
      "source": [
        "x"
      ],
      "metadata": {
        "id": "PNNWgu2g-XJP"
      },
      "execution_count": null,
      "outputs": []
    },
    {
      "cell_type": "markdown",
      "source": [
        "**Train Test Split**"
      ],
      "metadata": {
        "id": "4ZVPKPur5Typ"
      }
    },
    {
      "cell_type": "code",
      "source": [
        "x_train, x_test, y_train, y_test = train_test_split(x, y, train_size=0.7, random_state=2529)"
      ],
      "metadata": {
        "id": "crACBmSQ5ZGo"
      },
      "execution_count": 38,
      "outputs": []
    },
    {
      "cell_type": "code",
      "source": [
        "x_train.shape, x_test.shape, y_train.shape, y_test.shape"
      ],
      "metadata": {
        "colab": {
          "base_uri": "https://localhost:8080/"
        },
        "id": "PsbN50PP-z6n",
        "outputId": "1be06281-60cd-4907-c2a3-e46df961fdcc"
      },
      "execution_count": 37,
      "outputs": [
        {
          "output_type": "execute_result",
          "data": {
            "text/plain": [
              "((848, 100), (364, 100), (848,), (364,))"
            ]
          },
          "metadata": {},
          "execution_count": 37
        }
      ]
    },
    {
      "cell_type": "markdown",
      "source": [
        "**Modeling**"
      ],
      "metadata": {
        "id": "QKmzEHps5dxS"
      }
    },
    {
      "cell_type": "code",
      "source": [
        "model = LogisticRegression()"
      ],
      "metadata": {
        "id": "xIQu3Ga05qwK"
      },
      "execution_count": null,
      "outputs": []
    },
    {
      "cell_type": "code",
      "source": [
        "model.fit(x_train, y_train)"
      ],
      "metadata": {
        "id": "JKjhvbHd_F2P"
      },
      "execution_count": null,
      "outputs": []
    },
    {
      "cell_type": "markdown",
      "source": [
        "**Prediction**"
      ],
      "metadata": {
        "id": "CFqikdUI5uq3"
      }
    },
    {
      "cell_type": "code",
      "source": [
        "y_pred = model.predict(x_test)"
      ],
      "metadata": {
        "id": "KcvK1Y4D5-6J"
      },
      "execution_count": 41,
      "outputs": []
    },
    {
      "cell_type": "code",
      "source": [
        "y_pred.shape"
      ],
      "metadata": {
        "id": "eaHpm0fd_Lkn"
      },
      "execution_count": null,
      "outputs": []
    },
    {
      "cell_type": "code",
      "source": [
        "y_pred"
      ],
      "metadata": {
        "id": "LGCI28q5_S2S"
      },
      "execution_count": null,
      "outputs": []
    },
    {
      "cell_type": "markdown",
      "source": [
        "**Probability of each Predicted class**"
      ],
      "metadata": {
        "id": "FL2byjnQ6AhL"
      }
    },
    {
      "cell_type": "code",
      "source": [
        "model.predict_proba(x_test)"
      ],
      "metadata": {
        "id": "qCoOscBM_kiI"
      },
      "execution_count": null,
      "outputs": []
    },
    {
      "cell_type": "markdown",
      "source": [
        "**Evalutation**"
      ],
      "metadata": {
        "id": "FO_BdWN4_yhh"
      }
    },
    {
      "cell_type": "code",
      "source": [
        "con = confusion_matrix(y_test, y_pred)"
      ],
      "metadata": {
        "id": "ESaDpGY96Hlw"
      },
      "execution_count": 53,
      "outputs": []
    },
    {
      "cell_type": "code",
      "source": [
        "print(con)"
      ],
      "metadata": {
        "id": "hSgUmWavAC_H"
      },
      "execution_count": null,
      "outputs": []
    },
    {
      "cell_type": "code",
      "source": [
        "clas = classification_report(y_test, y_pred)"
      ],
      "metadata": {
        "id": "RLu-FLpMtV6A"
      },
      "execution_count": 55,
      "outputs": []
    },
    {
      "cell_type": "code",
      "source": [
        "print(clas)"
      ],
      "metadata": {
        "id": "BHmj20AvAGlY"
      },
      "execution_count": null,
      "outputs": []
    },
    {
      "cell_type": "markdown",
      "source": [
        "**Explanation:** The above code classifies the terrain as either hill or valley by using Logistic Regression and by using various python libraries."
      ],
      "metadata": {
        "id": "YyyhBTLJAedf"
      }
    }
  ]
}